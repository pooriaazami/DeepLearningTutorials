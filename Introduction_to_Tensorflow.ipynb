{
  "nbformat": 4,
  "nbformat_minor": 0,
  "metadata": {
    "colab": {
      "provenance": [],
      "authorship_tag": "ABX9TyO9OarkQofPa7D5osBl64T/",
      "include_colab_link": true
    },
    "kernelspec": {
      "name": "python3",
      "display_name": "Python 3"
    },
    "language_info": {
      "name": "python"
    }
  },
  "cells": [
    {
      "cell_type": "markdown",
      "metadata": {
        "id": "view-in-github",
        "colab_type": "text"
      },
      "source": [
        "<a href=\"https://colab.research.google.com/github/pooriaazami/DeepLearningTutorials/blob/main/Introduction_to_Tensorflow.ipynb\" target=\"_parent\"><img src=\"https://colab.research.google.com/assets/colab-badge.svg\" alt=\"Open In Colab\"/></a>"
      ]
    },
    {
      "cell_type": "markdown",
      "source": [
        "# Introduction\n",
        "- What is `TensorFlow`? TensorFlow is an open-source machine learning and deep learning library which has been developed by Google. It was the industrial standard for many years. Although Pytorch --another deep learning library-- is getting more and more popular, TensorFlow is still one the best choices.\n",
        "\n",
        "- What is `Keras`? Since TensorFlow v2, the Google brain team has announced Keras as the standard coding API for TF. It is a high-level framework which uses TensorFlow behind the scenes to generate deep learning codes. Keras makes our lives as deep learning engineers and researchers much easier.\n",
        "\n",
        "\n"
      ],
      "metadata": {
        "id": "dFa-3M7a1lwb"
      }
    },
    {
      "cell_type": "markdown",
      "source": [
        "TensorFlow can be used in all of the machine learning pipelines for any project of any scale, including loading data from multiple servers, loading data from a single file, large model training with multiple GPUs, model deployment on a cluster of TPUs, model deployment on a raspberry pi or micro controllers, deploying models on mobile devices (without any internet connection for inference time) and many others."
      ],
      "metadata": {
        "id": "cwx0XLTJ4UXH"
      }
    },
    {
      "cell_type": "markdown",
      "source": [
        "We will use some of its features in the following lectures. After exploring TensorFlow, we will switch to Pytorch and use some of its beautiful features too.  At the end of this semester, you should be able to load your own data, train a model, and deploy your trained model.\n"
      ],
      "metadata": {
        "id": "1PyqQP2-5Dj0"
      }
    },
    {
      "cell_type": "markdown",
      "source": [
        "# What is a deep learning library?\n",
        "\n",
        "Deep learning is not a new subject in machine learning, in fact, early papers on the subject are as old as other machine learning papers and some of them go back to the 1970s. But, it was not the mainstream and there were not many resources for the subject. Consequently, there were not many software packages for deep learning (and in general neural networks). For that, according to one of Google engineers, \"Nobody actually knows what is the best way to create a deep learning framework\".\n",
        "\n",
        "Tensorflow and Pytorch (and some other libraries like JAX) are basically tensor operating libraries combined with a GPU acceleration library. Of course, there are other components in both of them, but, the essence of what they consist of is these two components. So, let's take a look at what each of them does.\n",
        "\n",
        "## Tensor Operating Library\n",
        "\n",
        "A tensor is a multi-dimensional array. Almost all layers in a deep model, operate with tensors (with a few exceptions like the dropout layer which operates with matrices).\n",
        "A tensor operating library is a library that has implemented useful features to manipulate tensors. These features vary from simple math operations like adding and substracting to some more advanced features like convolutions and some others like converting tensors to numpy arrays and so on.\n",
        "\n",
        "## GPU acceleration library\n",
        "\n",
        "GPU acceleration library is a library that can run use code on GPUs. GPUs are super fast for tensor operations. They can run operations in parallel (not with multiple threads, but, with hardware-implemented parallelism) that speeds up computations.\n",
        "\n",
        "Note that, TensorFlow can also run code on TPU (Tensor Processing Unit), a unique hardware that is designed by Google. Among all deep learning libraries, only TensorFlow can use this hardware. It's worth mentioning that cloud TPUs are just used by Google and no one can buy them.\n",
        "\n",
        "It's good to have deep learning libraries implementing this feature, otherwise, we should write CUDA code by ourselves, which is an absolute nightmare."
      ],
      "metadata": {
        "id": "KE9oOfS55GcZ"
      }
    },
    {
      "cell_type": "markdown",
      "source": [
        "# First Tensor!"
      ],
      "metadata": {
        "id": "kLhv3nRJ9nhp"
      }
    },
    {
      "cell_type": "markdown",
      "source": [
        "Before diving into the Keras API, it's good to have a look at tensors.\n",
        "The very first step before starting coding is to import the TensorFlow library.\n",
        "Usually, people like to import TensorFlow as follows:\n",
        "\n",
        "`import tensorflow as tf`"
      ],
      "metadata": {
        "id": "MOOq_gTa9wIC"
      }
    },
    {
      "cell_type": "code",
      "source": [
        "import tensorflow as tf"
      ],
      "metadata": {
        "id": "eBxTBOix9uy9"
      },
      "execution_count": 1,
      "outputs": []
    },
    {
      "cell_type": "code",
      "source": [],
      "metadata": {
        "id": "Ch8nhpiL-PHh"
      },
      "execution_count": null,
      "outputs": []
    }
  ]
}